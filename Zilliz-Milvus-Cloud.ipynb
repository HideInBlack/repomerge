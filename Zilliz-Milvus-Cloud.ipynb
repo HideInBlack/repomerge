{
 "cells": [
  {
   "cell_type": "code",
   "execution_count": 1,
   "id": "9a08d016-af2a-4681-bc7c-9ab41fb790ff",
   "metadata": {},
   "outputs": [],
   "source": [
    "from pymilvus import MilvusClient\n",
    "from pymilvus import connections, MilvusClient, DataType\n",
    "from pymilvus import AnnSearchRequest\n",
    "\n",
    "# 云端向量数据库\n",
    "CLUSTER_ENDPOINT = \"https://in03-9e9fdbef8863964.serverless.ali-cn-hangzhou.cloud.zilliz.com.cn\" \n",
    "TOKEN = \"0b26d6c6392802bee965421c29437b0777d93c49f4871a18586ab47f1f3e98b9e805a65e8aa0a49b12ce816684cd94c8d9cd4344\"\n",
    "\n",
    "client = MilvusClient(\n",
    "    uri=CLUSTER_ENDPOINT,\n",
    "    token=TOKEN \n",
    ")"
   ]
  },
  {
   "cell_type": "code",
   "execution_count": 2,
   "id": "67437782-56b1-4c27-ab38-aa1f61c028b5",
   "metadata": {},
   "outputs": [
    {
     "data": {
      "text/plain": [
       "['vector_demo', 'rag_demo']"
      ]
     },
     "execution_count": 2,
     "metadata": {},
     "output_type": "execute_result"
    }
   ],
   "source": [
    "client.list_collections()"
   ]
  },
  {
   "cell_type": "code",
   "execution_count": 3,
   "id": "0b6bd4bd-41e8-4956-86a6-4e6f3cacee19",
   "metadata": {},
   "outputs": [],
   "source": [
    "client.drop_collection(collection_name=\"rag_demo\")"
   ]
  },
  {
   "cell_type": "markdown",
   "id": "501ec669-5051-4203-9b8a-ea82fc74edfc",
   "metadata": {},
   "source": [
    "## RAG案例"
   ]
  },
  {
   "cell_type": "code",
   "execution_count": 4,
   "id": "1f5f31b6-f8c8-4693-815f-3c9116862529",
   "metadata": {},
   "outputs": [],
   "source": [
    "import pandas as pd\n",
    "from tqdm import tqdm\n",
    "news = pd.read_csv(\"http://mirror.coggle.club/news-title.txt\", sep='\\t', header=None)[0].drop_duplicates().values"
   ]
  },
  {
   "cell_type": "code",
   "execution_count": 5,
   "id": "4d1c29ce",
   "metadata": {},
   "outputs": [],
   "source": [
    "from sentence_transformers import SentenceTransformer\n",
    "local_model_path = \"./bge/bge-small-zh-v1.5\"\n",
    "\n",
    "# # 在线加载模型\n",
    "# from sentence_transformers import SentenceTransformer\n",
    "# model = SentenceTransformer(\"BAAI/bge-small-zh-v1.5\")\n",
    "\n",
    "# 从本地加载模型\n",
    "model = SentenceTransformer(local_model_path)"
   ]
  },
  {
   "cell_type": "code",
   "execution_count": 6,
   "id": "9edc16d4-aac3-47e3-9389-a87253a6d968",
   "metadata": {},
   "outputs": [],
   "source": [
    "client.drop_collection(collection_name=\"rag_demo\")\n",
    "\n",
    "schema = MilvusClient.create_schema(\n",
    "    auto_id=True,\n",
    "    enable_dynamic_field=True,\n",
    ")\n",
    "schema.add_field(field_name=\"id\", datatype=DataType.INT64, is_primary=True)\n",
    "schema.add_field(field_name=\"chunk_content\", datatype=DataType.VARCHAR, max_length=1024)\n",
    "schema.add_field(field_name=\"chunk_sparse_embedding\", datatype=DataType.SPARSE_FLOAT_VECTOR)\n",
    "schema.add_field(field_name=\"chunk_embedding\", datatype=DataType.FLOAT_VECTOR, dim=512)\n",
    "\n",
    "index_params = MilvusClient.prepare_index_params()\n",
    "index_params.add_index(\n",
    "    field_name=\"chunk_embedding\",\n",
    "    metric_type=\"COSINE\",\n",
    "    index_type=\"AUTOINDEX\",\n",
    "    index_name=\"vector_index\"\n",
    ")\n",
    "index_params.add_index(\n",
    "    field_name=\"chunk_sparse_embedding\",\n",
    "    index_name=\"sparse_inverted_index\",\n",
    "    index_type=\"SPARSE_INVERTED_INDEX\",\n",
    "    metric_type=\"IP\",\n",
    "    params={\"drop_ratio_build\": 0.2},\n",
    ")\n",
    "\n",
    "\n",
    "client.create_collection(\n",
    "    collection_name=\"rag_demo\", \n",
    "    schema=schema, \n",
    "    index_params=index_params\n",
    ")"
   ]
  },
  {
   "cell_type": "code",
   "execution_count": 7,
   "id": "8c51a133-592a-482c-8606-9f90c48c3c87",
   "metadata": {},
   "outputs": [
    {
     "name": "stderr",
     "output_type": "stream",
     "text": [
      "Building prefix dict from the default dictionary ...\n",
      "Loading model from cache C:\\Users\\DONGZH~1\\AppData\\Local\\Temp\\jieba.cache\n",
      "Loading model cost 0.360 seconds.\n",
      "Prefix dict has been built successfully.\n"
     ]
    }
   ],
   "source": [
    "from pymilvus.model.sparse.bm25.tokenizers import build_default_analyzer\n",
    "from pymilvus.model.sparse import BM25EmbeddingFunction\n",
    " \n",
    "analyzer = build_default_analyzer(language=\"zh\") \n",
    "bm25_ef = BM25EmbeddingFunction(analyzer)\n",
    "bm25_ef.fit(news)"
   ]
  },
  {
   "cell_type": "code",
   "execution_count": 8,
   "id": "f483e765-5716-4968-9999-465a575fcd3c",
   "metadata": {},
   "outputs": [
    {
     "name": "stderr",
     "output_type": "stream",
     "text": [
      "100%|██████████| 489/489 [00:47<00:00, 10.40it/s]\n"
     ]
    }
   ],
   "source": [
    "for title in tqdm(news):\n",
    "    encode = model.encode(title)\n",
    "    result = bm25_ef.encode_queries([title]).reshape(1, -1)\n",
    "    \n",
    "    res = client.insert(\n",
    "        collection_name=\"rag_demo\",\n",
    "        data=[\n",
    "            {\n",
    "                \"chunk_content\": title,\n",
    "                \"chunk_sparse_embedding\": {index: value for index, value in zip(result.indices, result.data)},\n",
    "                \"chunk_embedding\": encode\n",
    "            }\n",
    "        ]\n",
    "    )"
   ]
  },
  {
   "cell_type": "code",
   "execution_count": 13,
   "id": "36eb1ba1-26bd-402b-bedb-24a8ae8c1d10",
   "metadata": {},
   "outputs": [],
   "source": [
    "from pymilvus import (\n",
    "    utility,\n",
    "    FieldSchema, CollectionSchema, DataType,\n",
    "    Collection, AnnSearchRequest, RRFRanker, connections,\n",
    ")\n",
    "from pymilvus import WeightedRanker\n",
    "\n",
    "query = \"最近南京相关的新闻\"\n",
    "result = bm25_ef.encode_queries([query]).reshape(1, -1)\n",
    "\n",
    "sparse_search_params = {\"metric_type\": \"IP\"}\n",
    "sparse_req = AnnSearchRequest([{index: float(value) for index, value in zip(result.indices, result.data)}],\n",
    "                              \"chunk_sparse_embedding\", sparse_search_params, limit=10)\n",
    "\n",
    "dense_search_params = {\"metric_type\": \"COSINE\"}\n",
    "dense_req = AnnSearchRequest([list(model.encode(query))],\n",
    "                             \"chunk_embedding\", dense_search_params, limit=10)\n",
    "\n",
    "reqs = [sparse_req, dense_req]\n",
    "\n",
    "rerank = WeightedRanker(0, 1)  \n",
    "result = client.hybrid_search(\"rag_demo\", reqs, ranker=rerank, limit=3, output_fields=[\"chunk_content\"])"
   ]
  },
  {
   "cell_type": "code",
   "execution_count": 14,
   "id": "000802af-ce9c-4921-826b-a22d97e14e4d",
   "metadata": {},
   "outputs": [
    {
     "name": "stdout",
     "output_type": "stream",
     "text": [
      "请对用户的提问进行回答：最近南京相关的新闻\n",
      "\n",
      "相关资料：几天后江苏将反超广东！江苏两市喜提地铁\n",
      "网友晚间继续供稿 北京夜空被盛大绚丽烟火照亮\n",
      "江苏野外闲置20辆公交车 有“骗补”可能\n",
      "\n"
     ]
    }
   ],
   "source": [
    "related_news = \"\\n\".join([x[\"entity\"][\"chunk_content\"] for x in result[0]])\n",
    "prompt = f\"\"\"请对用户的提问进行回答：{query}\n",
    "\n",
    "相关资料：{related_news}\n",
    "\"\"\"\n",
    "print(prompt)"
   ]
  }
 ],
 "metadata": {
  "kernelspec": {
   "display_name": "Python 3",
   "language": "python",
   "name": "python3"
  },
  "language_info": {
   "codemirror_mode": {
    "name": "ipython",
    "version": 3
   },
   "file_extension": ".py",
   "mimetype": "text/x-python",
   "name": "python",
   "nbconvert_exporter": "python",
   "pygments_lexer": "ipython3",
   "version": "3.9.12"
  }
 },
 "nbformat": 4,
 "nbformat_minor": 5
}
