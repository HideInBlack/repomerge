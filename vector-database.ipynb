{
 "cells": [
  {
   "cell_type": "code",
   "execution_count": 1,
   "id": "9a08d016-af2a-4681-bc7c-9ab41fb790ff",
   "metadata": {},
   "outputs": [],
   "source": [
    "from pymilvus import MilvusClient\n",
    "from pymilvus import connections, MilvusClient, DataType\n",
    "from pymilvus import AnnSearchRequest\n",
    "\n",
    "# 云端向量数据库\n",
    "CLUSTER_ENDPOINT = \"https://in03-9e9fdbef8863964.serverless.ali-cn-hangzhou.cloud.zilliz.com.cn\" \n",
    "TOKEN = \"0b26d6c6392802bee965421c29437b0777d93c49f4871a18586ab47f1f3e98b9e805a65e8aa0a49b12ce816684cd94c8d9cd4344\"\n",
    "\n",
    "client = MilvusClient(\n",
    "    uri=CLUSTER_ENDPOINT,\n",
    "    token=TOKEN \n",
    ")"
   ]
  },
  {
   "cell_type": "code",
   "execution_count": 2,
   "id": "67437782-56b1-4c27-ab38-aa1f61c028b5",
   "metadata": {},
   "outputs": [
    {
     "data": {
      "text/plain": [
       "['vector_demo', 'rag_demo']"
      ]
     },
     "execution_count": 2,
     "metadata": {},
     "output_type": "execute_result"
    }
   ],
   "source": [
    "client.list_collections()"
   ]
  },
  {
   "cell_type": "code",
   "execution_count": 3,
   "id": "0b6bd4bd-41e8-4956-86a6-4e6f3cacee19",
   "metadata": {},
   "outputs": [],
   "source": [
    "client.drop_collection(collection_name=\"vector_demo\")"
   ]
  },
  {
   "cell_type": "markdown",
   "id": "501ec669-5051-4203-9b8a-ea82fc74edfc",
   "metadata": {},
   "source": [
    "## RAG案例"
   ]
  },
  {
   "cell_type": "code",
   "execution_count": 4,
   "id": "2334d3ef",
   "metadata": {},
   "outputs": [
    {
     "name": "stdout",
     "output_type": "stream",
     "text": [
      "['if ( LOG . isDebugEnabled ( ) ) { \\\\n LOG . debug ( \\\\n \\\\n<<<<<<< \\\\\"Class of attribute \\\\\" \\\\n||||||| \\\\\"Klasse des Attributs \\\\\" \\\\n=======\\\\n\\\\\"Klasse des Attributs \\\\\" \\\\n \\\\n>>>>>>> \\\\n+ mai . getName ( ) \\\\n + \\\\\" (within conversion request)\\\\\" // NOI18N \\\\n'\n",
      " 'public void testRemoveStringArray ( ) <<<<<<< \\\\nthrows InvalidAttributeValueException , NamingException \\\\n=======\\\\nthrows Exception \\\\n>>>>>>>'\n",
      " 'String r = Hudson . getInstance ( ) . getRootUrl ( ) ; \\\\n if ( r == null ) \\\\n throw new IllegalStateException ( \\\\\"Root URL isn\\'t configured yet. Cannot compute absolute URL.\\\\\" ) ; \\\\n return Util . encode ( \\\\n<<<<<<< Jenkins . getInstance ( ) . getRootUrl ( ) \\\\n||||||| \\\\nHudson . getInstance ( ) . getRootUrl ( ) \\\\n=======\\\\nr \\\\n>>>>>>> \\\\n+ getUrl ( ) ) ; \\\\n'\n",
      " '\\\\n<<<<<<< \\\\n_methodName572 = \\\\\"isVisibleInContest\\\\\" ; \\\\n \\\\n _methodParameterTypes572 \\\\n||||||| \\\\n_methodParameterTypes571 \\\\n=======\\\\n_methodParameterTypes577 \\\\n>>>>>>> \\\\n= new String [ ] { \\\\n']\n"
     ]
    }
   ],
   "source": [
    "import pandas as pd\n",
    "from tqdm import tqdm\n",
    "\n",
    "local_file_path = './dataset/test.txt'\n",
    "\n",
    "# 使用 pandas 读取本地文件\n",
    "news = pd.read_csv(local_file_path, sep='\\t', header=None)[0].drop_duplicates().values\n",
    "\n",
    "# 打印前几行，查看数据是否正确读取\n",
    "print(news[:10])  # 只打印前 10 个新闻标题"
   ]
  },
  {
   "cell_type": "code",
   "execution_count": 5,
   "id": "4d1c29ce",
   "metadata": {},
   "outputs": [],
   "source": [
    "from sentence_transformers import SentenceTransformer\n",
    "local_model_path = \"./bge/bge-small-en-v1.5\"\n",
    "\n",
    "# # 在线加载模型\n",
    "# from sentence_transformers import SentenceTransformer\n",
    "# model = SentenceTransformer(\"BAAI/bge-small-zh-v1.5\")\n",
    "\n",
    "# 本地加载模型\n",
    "model = SentenceTransformer(local_model_path)"
   ]
  },
  {
   "cell_type": "code",
   "execution_count": 6,
   "id": "9edc16d4-aac3-47e3-9389-a87253a6d968",
   "metadata": {},
   "outputs": [],
   "source": [
    "client.drop_collection(collection_name=\"vector_demo\")\n",
    "\n",
    "schema = MilvusClient.create_schema(\n",
    "    auto_id=True,\n",
    "    enable_dynamic_field=True,\n",
    ")\n",
    "schema.add_field(field_name=\"id\", datatype=DataType.INT64, is_primary=True)\n",
    "schema.add_field(field_name=\"chunk_content\", datatype=DataType.VARCHAR, max_length=1024)\n",
    "schema.add_field(field_name=\"chunk_sparse_embedding\", datatype=DataType.SPARSE_FLOAT_VECTOR)\n",
    "schema.add_field(field_name=\"chunk_embedding\", datatype=DataType.FLOAT_VECTOR, dim=512)\n",
    "\n",
    "index_params = MilvusClient.prepare_index_params()\n",
    "index_params.add_index(\n",
    "    field_name=\"chunk_embedding\",\n",
    "    metric_type=\"COSINE\",\n",
    "    index_type=\"AUTOINDEX\",\n",
    "    index_name=\"vector_index\"\n",
    ")\n",
    "index_params.add_index(\n",
    "    field_name=\"chunk_sparse_embedding\",\n",
    "    index_name=\"sparse_inverted_index\",\n",
    "    index_type=\"SPARSE_INVERTED_INDEX\",\n",
    "    metric_type=\"IP\",\n",
    "    params={\"drop_ratio_build\": 0.2},\n",
    ")\n",
    "\n",
    "\n",
    "client.create_collection(\n",
    "    collection_name=\"vector_demo\", \n",
    "    schema=schema, \n",
    "    index_params=index_params\n",
    ")"
   ]
  },
  {
   "cell_type": "code",
   "execution_count": 7,
   "id": "8c51a133-592a-482c-8606-9f90c48c3c87",
   "metadata": {},
   "outputs": [],
   "source": [
    "from pymilvus.model.sparse.bm25.tokenizers import build_default_analyzer\n",
    "from pymilvus.model.sparse import BM25EmbeddingFunction\n",
    " \n",
    "analyzer = build_default_analyzer(language=\"en\") \n",
    "bm25_ef = BM25EmbeddingFunction(analyzer)\n",
    "bm25_ef.fit(news)"
   ]
  },
  {
   "cell_type": "code",
   "execution_count": 8,
   "id": "f483e765-5716-4968-9999-465a575fcd3c",
   "metadata": {},
   "outputs": [
    {
     "name": "stderr",
     "output_type": "stream",
     "text": [
      "100%|██████████| 4/4 [00:01<00:00,  2.48it/s]\n"
     ]
    }
   ],
   "source": [
    "import numpy as np\n",
    "\n",
    "# 截取或者填充到 512 维\n",
    "def ensure_vector_dimension(vector, target_dim=512):\n",
    "    if len(vector) > target_dim:\n",
    "        return vector[:target_dim]\n",
    "    elif len(vector) < target_dim:\n",
    "        return np.pad(vector, (0, target_dim - len(vector)), 'constant')\n",
    "    return vector\n",
    "\n",
    "\n",
    "for title in tqdm(news):\n",
    "\n",
    "    encode = model.encode(title)\n",
    "    encode = ensure_vector_dimension(encode, 512)\n",
    "\n",
    "    result = bm25_ef.encode_queries([title]).reshape(1, -1)\n",
    "    \n",
    "    res = client.insert(\n",
    "        collection_name=\"vector_demo\",\n",
    "        data=[\n",
    "            {\n",
    "                \"chunk_content\": title,\n",
    "                \"chunk_sparse_embedding\": {index: value for index, value in zip(result.indices, result.data)},\n",
    "                \"chunk_embedding\": encode\n",
    "            }\n",
    "        ]\n",
    "    )"
   ]
  },
  {
   "cell_type": "code",
   "execution_count": 12,
   "id": "36eb1ba1-26bd-402b-bedb-24a8ae8c1d10",
   "metadata": {},
   "outputs": [],
   "source": [
    "from pymilvus import (\n",
    "    utility,\n",
    "    FieldSchema, CollectionSchema, DataType,\n",
    "    Collection, AnnSearchRequest, RRFRanker, connections,\n",
    ")\n",
    "from pymilvus import WeightedRanker\n",
    "\n",
    "query = \"public void testGetInstance ( ) <<<<<<< \\nthrows IllegalStateException , NamingException \\n=======\\nthrows Exception \\n>>>>>>>\" \n",
    "result = bm25_ef.encode_queries([query]).reshape(1, -1)\n",
    "\n",
    "sparse_search_params = {\"metric_type\": \"IP\"}\n",
    "sparse_req = AnnSearchRequest([{index: float(value) for index, value in zip(result.indices, result.data)}],\n",
    "                              \"chunk_sparse_embedding\", sparse_search_params, limit=2)\n",
    "\n",
    "dense_search_params = {\"metric_type\": \"COSINE\"}\n",
    "dense_req = AnnSearchRequest([ensure_vector_dimension(list(model.encode(query)), 512)],\n",
    "                             \"chunk_embedding\", dense_search_params, limit=2)\n",
    "\n",
    "reqs = [sparse_req, dense_req]\n",
    "\n",
    "rerank = WeightedRanker(0.2, 0.8)  \n",
    "result = client.hybrid_search(\"vector_demo\", reqs, ranker=rerank, limit=3, output_fields=[\"chunk_content\"])"
   ]
  },
  {
   "cell_type": "code",
   "execution_count": 13,
   "id": "000802af-ce9c-4921-826b-a22d97e14e4d",
   "metadata": {},
   "outputs": [
    {
     "name": "stdout",
     "output_type": "stream",
     "text": [
      "查询：\n",
      "public void testGetInstance ( ) <<<<<<< \n",
      "throws IllegalStateException , NamingException \n",
      "=======\n",
      "throws Exception \n",
      ">>>>>>>\n",
      "\n",
      "检索结果：\n",
      "public void testRemoveStringArray ( ) <<<<<<< \\nthrows InvalidAttributeValueException , NamingException \\n=======\\nthrows Exception \\n>>>>>>>\n",
      "\\n<<<<<<< \\n_methodName572 = \\\"isVisibleInContest\\\" ; \\n \\n _methodParameterTypes572 \\n||||||| \\n_methodParameterTypes571 \\n=======\\n_methodParameterTypes577 \\n>>>>>>> \\n= new String [ ] { \\n\n",
      "String r = Hudson . getInstance ( ) . getRootUrl ( ) ; \\n if ( r == null ) \\n throw new IllegalStateException ( \\\"Root URL isn't configured yet. Cannot compute absolute URL.\\\" ) ; \\n return Util . encode ( \\n<<<<<<< Jenkins . getInstance ( ) . getRootUrl ( ) \\n||||||| \\nHudson . getInstance ( ) . getRootUrl ( ) \\n=======\\nr \\n>>>>>>> \\n+ getUrl ( ) ) ; \\n\n",
      "\n"
     ]
    }
   ],
   "source": [
    "related_news = \"\\n\".join([x[\"entity\"][\"chunk_content\"] for x in result[0]])\n",
    "prompt = f\"\"\"查询：\n",
    "{query}\n",
    "\n",
    "检索结果：\n",
    "{related_news}\n",
    "\"\"\"\n",
    "print(prompt)"
   ]
  }
 ],
 "metadata": {
  "kernelspec": {
   "display_name": "Python 3",
   "language": "python",
   "name": "python3"
  },
  "language_info": {
   "codemirror_mode": {
    "name": "ipython",
    "version": 3
   },
   "file_extension": ".py",
   "mimetype": "text/x-python",
   "name": "python",
   "nbconvert_exporter": "python",
   "pygments_lexer": "ipython3",
   "version": "3.9.12"
  }
 },
 "nbformat": 4,
 "nbformat_minor": 5
}
