{
 "cells": [
  {
   "cell_type": "code",
   "execution_count": 1,
   "id": "9a08d016-af2a-4681-bc7c-9ab41fb790ff",
   "metadata": {},
   "outputs": [],
   "source": [
    "from pymilvus import MilvusClient\n",
    "from pymilvus import connections, MilvusClient, DataType\n",
    "from pymilvus import AnnSearchRequest\n",
    "\n",
    "# 云端向量数据库\n",
    "CLUSTER_ENDPOINT = \"https://in03-9e9fdbef8863964.serverless.ali-cn-hangzhou.cloud.zilliz.com.cn\" \n",
    "TOKEN = \"0b26d6c6392802bee965421c29437b0777d93c49f4871a18586ab47f1f3e98b9e805a65e8aa0a49b12ce816684cd94c8d9cd4344\"\n",
    "\n",
    "client = MilvusClient(\n",
    "    uri=CLUSTER_ENDPOINT,\n",
    "    token=TOKEN \n",
    ")"
   ]
  },
  {
   "cell_type": "code",
   "execution_count": 2,
   "id": "67437782-56b1-4c27-ab38-aa1f61c028b5",
   "metadata": {},
   "outputs": [
    {
     "data": {
      "text/plain": [
       "['vector_demo', 'rag_demo']"
      ]
     },
     "execution_count": 2,
     "metadata": {},
     "output_type": "execute_result"
    }
   ],
   "source": [
    "client.list_collections()"
   ]
  },
  {
   "cell_type": "code",
   "execution_count": 3,
   "id": "0b6bd4bd-41e8-4956-86a6-4e6f3cacee19",
   "metadata": {},
   "outputs": [],
   "source": [
    "client.drop_collection(collection_name=\"vector_demo\")"
   ]
  },
  {
   "cell_type": "markdown",
   "id": "501ec669-5051-4203-9b8a-ea82fc74edfc",
   "metadata": {},
   "source": [
    "## RAG案例"
   ]
  },
  {
   "cell_type": "code",
   "execution_count": 4,
   "id": "2334d3ef",
   "metadata": {},
   "outputs": [
    {
     "name": "stdout",
     "output_type": "stream",
     "text": [
      "['concurrent_change _newline_ import org.xcolab.service.tracking.service.TrackedVisitService; _newline_  _newline_ base_content _newline_ import org.xcolab.model.tables.pojos.TrackedVisitor2User; _newline_ import org.xcolab.service.tracking.service.trackedvisitor2user.TrackedVisitService; _newline_ import org.xcolab.service.tracking.service.trackedvisitor2user.TrackedVisitor2UserService; _newline_  _newline_ incoming_change _newline_ import org.xcolab.model.tables.pojos.TrackedVisitor2User; _newline_ import org.xcolab.service.tracking.service.TrackedVisitService; _newline_ import org.xcolab.service.tracking.service.TrackedVisitor2UserService; _newline_ '\n",
      " 'concurrent_change _newline_     private String _methodName506; _newline_     private String[] _methodParameterTypes506; _newline_     private String _methodName507; _newline_     private String[] _methodParameterTypes507; _newline_  _newline_ base_content _newline_     private String _methodName518; _newline_     private String[] _methodParameterTypes518; _newline_     private String _methodName519; _newline_     private String[] _methodParameterTypes519; _newline_  _newline_ incoming_change _newline_     private String _methodName524; _newline_     private String[] _methodParameterTypes524; _newline_     private String _methodName525; _newline_     private String[] _methodParameterTypes525; _newline_ '\n",
      " 'concurrent_change _newline_         _methodName506 = \"getBeanIdentifier\"; _newline_  _newline_ base_content _newline_         _methodName518 = \"getBeanIdentifier\"; _newline_  _newline_ incoming_change _newline_         _methodName524 = \"getBeanIdentifier\"; _newline_ '\n",
      " 'concurrent_change _newline_         _methodParameterTypes506 = new String[] {  }; _newline_  _newline_ base_content _newline_         _methodParameterTypes518 = new String[] {  }; _newline_  _newline_ incoming_change _newline_         _methodParameterTypes524 = new String[] {  }; _newline_ '\n",
      " 'concurrent_change _newline_         _methodName507 = \"setBeanIdentifier\"; _newline_  _newline_ base_content _newline_         _methodName519 = \"setBeanIdentifier\"; _newline_  _newline_ incoming_change _newline_         _methodName525 = \"setBeanIdentifier\"; _newline_ '\n",
      " 'concurrent_change _newline_         _methodParameterTypes507 = new String[] { \"java.lang.String\" }; _newline_  _newline_ base_content _newline_         _methodParameterTypes519 = new String[] { \"java.lang.String\" }; _newline_  _newline_ incoming_change _newline_         _methodParameterTypes525 = new String[] { \"java.lang.String\" }; _newline_ '\n",
      " 'concurrent_change _newline_         if (_methodName506.equals(name) && _newline_                 Arrays.deepEquals(_methodParameterTypes506, parameterTypes)) { _newline_  _newline_ base_content _newline_         if (_methodName518.equals(name) && _newline_                 Arrays.deepEquals(_methodParameterTypes518, parameterTypes)) { _newline_  _newline_ incoming_change _newline_         if (_methodName524.equals(name) && _newline_                 Arrays.deepEquals(_methodParameterTypes524, parameterTypes)) { _newline_ '\n",
      " 'concurrent_change _newline_         if (_methodName507.equals(name) && _newline_                 Arrays.deepEquals(_methodParameterTypes507, parameterTypes)) { _newline_  _newline_ base_content _newline_         if (_methodName519.equals(name) && _newline_                 Arrays.deepEquals(_methodParameterTypes519, parameterTypes)) { _newline_  _newline_ incoming_change _newline_         if (_methodName525.equals(name) && _newline_                 Arrays.deepEquals(_methodParameterTypes525, parameterTypes)) { _newline_ '\n",
      " 'concurrent_change _newline_     private String _methodName506; _newline_     private String[] _methodParameterTypes506; _newline_     private String _methodName507; _newline_     private String[] _methodParameterTypes507; _newline_     private String _methodName512; _newline_     private String[] _methodParameterTypes512; _newline_     private String _methodName513; _newline_     private String[] _methodParameterTypes513; _newline_     private String _methodName514; _newline_     private String[] _methodParameterTypes514; _newline_     private String _methodName515; _newline_     private String[] _methodParameterTypes515; _newline_     private String _methodName516; _newline_     private String[] _methodParameterTypes516; _newline_     private String _methodName517; _newline_     private String[] _methodParameterTypes517; _newline_     private String _methodName518; _newline_     private String[] _methodParameterTypes518; _newline_     private String _methodName519; _newline_     private String[] _methodParameterTypes519; _newline_     private String _methodName520; _newline_     private String[] _methodParameterTypes520; _newline_     private String _methodName521; _newline_     private String[] _methodParameterTypes521; _newline_     private String _methodName522; _newline_     private String[] _methodParameterTypes522; _newline_     private String _methodName523; _newline_     private String[] _methodParameterTypes523; _newline_  _newline_ base_content _newline_     private String _methodName518; _newline_     private String[] _methodParameterTypes518; _newline_     private String _methodName519; _newline_     private String[] _methodParameterTypes519; _newline_  _newline_ incoming_change _newline_ '\n",
      " 'concurrent_change _newline_  _newline_ base_content _newline_     private String _methodName526; _newline_     private String[] _methodParameterTypes526; _newline_     private String _methodName527; _newline_     private String[] _methodParameterTypes527; _newline_     private String _methodName528; _newline_     private String[] _methodParameterTypes528; _newline_     private String _methodName529; _newline_     private String[] _methodParameterTypes529; _newline_     private String _methodName530; _newline_     private String[] _methodParameterTypes530; _newline_     private String _methodName531; _newline_     private String[] _methodParameterTypes531; _newline_     private String _methodName532; _newline_     private String[] _methodParameterTypes532; _newline_     private String _methodName533; _newline_     private String[] _methodParameterTypes533; _newline_     private String _methodName534; _newline_     private String[] _methodParameterTypes534; _newline_     private String _methodName535; _newline_     private String[] _methodParameterTypes535; _newline_     private String _methodName536; _newline_     private String[] _methodParameterTypes536; _newline_     private String _methodName537; _newline_     private String[] _methodParameterTypes537; _newline_  _newline_ incoming_change _newline_     private String _methodName530; _newline_     private String[] _methodParameterTypes530; _newline_     private String _methodName531; _newline_     private String[] _methodParameterTypes531; _newline_     private String _methodName532; _newline_     private String[] _methodParameterTypes532; _newline_     private String _methodName533; _newline_     private String[] _methodParameterTypes533; _newline_     private String _methodName534; _newline_     private String[] _methodParameterTypes534; _newline_     private String _methodName535; _newline_     private String[] _methodParameterTypes535; _newline_     private String _methodName536; _newline_     private String[] _methodParameterTypes536; _newline_     private String _methodName537; _newline_     private String[] _methodParameterTypes537; _newline_     private String _methodName538; _newline_     private String[] _methodParameterTypes538; _newline_     private String _methodName539; _newline_     private String[] _methodParameterTypes539; _newline_     private String _methodName540; _newline_     private String[] _methodParameterTypes540; _newline_     private String _methodName541; _newline_     private String[] _methodParameterTypes541; _newline_     private String _methodName542; _newline_     private String[] _methodParameterTypes542; _newline_     private String _methodName543; _newline_     private String[] _methodParameterTypes543; _newline_ ']\n"
     ]
    }
   ],
   "source": [
    "import pandas as pd\n",
    "from tqdm import tqdm\n",
    "\n",
    "local_file_path = 'dataset/repoLevel/XCoLab_Conflicts.txt'\n",
    "\n",
    "# 使用 pandas 读取本地文件\n",
    "news = pd.read_csv(local_file_path, sep='\\t', header=None)[0].drop_duplicates().values\n",
    "\n",
    "# 打印前几行，查看数据是否正确读取\n",
    "print(news[:10])  # 只打印前 10 个新闻标题"
   ]
  },
  {
   "cell_type": "code",
   "execution_count": 5,
   "id": "9edc16d4-aac3-47e3-9389-a87253a6d968",
   "metadata": {},
   "outputs": [],
   "source": [
    "client.drop_collection(collection_name=\"vector_demo\")\n",
    "\n",
    "schema = MilvusClient.create_schema(\n",
    "    auto_id=True,\n",
    "    enable_dynamic_field=True,\n",
    ")\n",
    "schema.add_field(field_name=\"id\", datatype=DataType.INT64, is_primary=True)\n",
    "schema.add_field(field_name=\"chunk_content\", datatype=DataType.VARCHAR, max_length=1024)\n",
    "schema.add_field(field_name=\"chunk_sparse_embedding\", datatype=DataType.SPARSE_FLOAT_VECTOR)\n",
    "schema.add_field(field_name=\"chunk_embedding\", datatype=DataType.FLOAT_VECTOR, dim=512)\n",
    "\n",
    "index_params = MilvusClient.prepare_index_params()\n",
    "index_params.add_index(\n",
    "    field_name=\"chunk_embedding\",\n",
    "    metric_type=\"COSINE\",\n",
    "    index_type=\"AUTOINDEX\",\n",
    "    index_name=\"vector_index\"\n",
    ")\n",
    "index_params.add_index(\n",
    "    field_name=\"chunk_sparse_embedding\",\n",
    "    index_name=\"sparse_inverted_index\",\n",
    "    index_type=\"SPARSE_INVERTED_INDEX\",\n",
    "    metric_type=\"IP\",\n",
    "    params={\"drop_ratio_build\": 0.2},\n",
    ")\n",
    "\n",
    "\n",
    "client.create_collection(\n",
    "    collection_name=\"vector_demo\", \n",
    "    schema=schema, \n",
    "    index_params=index_params\n",
    ")"
   ]
  },
  {
   "cell_type": "code",
   "execution_count": 6,
   "id": "8c51a133-592a-482c-8606-9f90c48c3c87",
   "metadata": {},
   "outputs": [],
   "source": [
    "from pymilvus.model.sparse.bm25.tokenizers import build_default_analyzer\n",
    "from pymilvus.model.sparse import BM25EmbeddingFunction\n",
    " \n",
    "analyzer = build_default_analyzer(language=\"en\") \n",
    "bm25_ef = BM25EmbeddingFunction(analyzer)\n",
    "bm25_ef.fit(news)"
   ]
  },
  {
   "cell_type": "code",
   "execution_count": 7,
   "id": "f483e765-5716-4968-9999-465a575fcd3c",
   "metadata": {},
   "outputs": [
    {
     "data": {
      "text/plain": [
       "'注释掉:已改成codebert模型嵌入'"
      ]
     },
     "execution_count": 7,
     "metadata": {},
     "output_type": "execute_result"
    }
   ],
   "source": [
    "\"\"\"注释掉:已改成codebert模型嵌入\"\"\"\n",
    "# from sentence_transformers import SentenceTransformer\n",
    "# local_model_path = \"./bge/bge-small-en-v1.5\"\n",
    "\n",
    "# # # 在线加载模型\n",
    "# # from sentence_transformers import SentenceTransformer\n",
    "# # model = SentenceTransformer(\"BAAI/bge-small-zh-v1.5\")\n",
    "\n",
    "# # 本地加载模型\n",
    "# model = SentenceTransformer(local_model_path)\n",
    "\n",
    "# import numpy as np\n",
    "\n",
    "# # 截取或者填充到 512 维\n",
    "# def ensure_vector_dimension(vector, target_dim=512):\n",
    "#     if len(vector) > target_dim:\n",
    "#         return vector[:target_dim]\n",
    "#     elif len(vector) < target_dim:\n",
    "#         return np.pad(vector, (0, target_dim - len(vector)), 'constant')\n",
    "#     return vector\n",
    "\n",
    "\n",
    "# for title in tqdm(news):\n",
    "\n",
    "#     encode = model.encode(title)\n",
    "#     encode = ensure_vector_dimension(encode, 512)\n",
    "\n",
    "#     result = bm25_ef.encode_queries([title]).reshape(1, -1)\n",
    "    \n",
    "#     res = client.insert(\n",
    "#         collection_name=\"vector_demo\",\n",
    "#         data=[\n",
    "#             {\n",
    "#                 \"chunk_content\": title,\n",
    "#                 \"chunk_sparse_embedding\": {index: value for index, value in zip(result.indices, result.data)},\n",
    "#                 \"chunk_embedding\": encode\n",
    "#             }\n",
    "#         ]\n",
    "#     )"
   ]
  },
  {
   "cell_type": "code",
   "execution_count": 9,
   "id": "6ba955a8",
   "metadata": {},
   "outputs": [
    {
     "name": "stdout",
     "output_type": "stream",
     "text": [
      "使用本地模型\n"
     ]
    },
    {
     "name": "stderr",
     "output_type": "stream",
     "text": [
      "100%|██████████| 7089/7089 [27:24<00:00,  4.31it/s]\n"
     ]
    }
   ],
   "source": [
    "from transformers import AutoTokenizer, AutoModel\n",
    "import torch\n",
    "import numpy as np\n",
    "from tqdm import tqdm\n",
    "\n",
    "# 加载本地 CodeBERT 模型\n",
    "local_model_path = \"./codebert/codebert-base\"\n",
    "\n",
    "# 加载模型和分词器\n",
    "def download_or_load_model(local_model_path):\n",
    "    try:\n",
    "        # 尝试从本地加载模型\n",
    "        tokenizer = AutoTokenizer.from_pretrained(local_model_path)\n",
    "        model = AutoModel.from_pretrained(local_model_path).to(\"cuda\" if torch.cuda.is_available() else \"cpu\")\n",
    "        print(\"使用本地模型\")\n",
    "    except Exception as e:\n",
    "        # 捕获并打印错误，帮助调试\n",
    "        print(f\"从本地加载模型失败，错误：{e}\")\n",
    "        \n",
    "        # 本地不存在则从网络下载\n",
    "        tokenizer = AutoTokenizer.from_pretrained(\"microsoft/codebert-base\")\n",
    "        model = AutoModel.from_pretrained(\"microsoft/codebert-base\").to(\"cuda\" if torch.cuda.is_available() else \"cpu\")\n",
    "        \n",
    "        # 保存到本地\n",
    "        tokenizer.save_pretrained(local_model_path)\n",
    "        model.save_pretrained(local_model_path)\n",
    "        print(\"从网络下载并保存本地模型\")\n",
    "\n",
    "    return tokenizer, model\n",
    "\n",
    "tokenizer, model = download_or_load_model(local_model_path)\n",
    "\n",
    "# 截取或者填充到 512 维\n",
    "def ensure_vector_dimension(vector, target_dim=512):\n",
    "    if len(vector) > target_dim:\n",
    "        return vector[:target_dim]\n",
    "    elif len(vector) < target_dim:\n",
    "        return np.pad(vector, (0, target_dim - len(vector)), 'constant')\n",
    "    return vector\n",
    "\n",
    "for title in tqdm(news):\n",
    "    # 使用 tokenizer 对文本进行编码\n",
    "    inputs = tokenizer(title, padding=True, truncation=True, return_tensors=\"pt\").to(model.device)\n",
    "    \n",
    "    # 使用 CodeBERT 获取嵌入（通过取最后一层的均值作为句子嵌入）\n",
    "    with torch.no_grad():  # 禁用梯度计算\n",
    "        outputs = model(**inputs)\n",
    "        embeddings = outputs.last_hidden_state.mean(dim=1).cpu().numpy()  # 获取句子级别的 embedding\n",
    "    \n",
    "    # 确保嵌入向量维度为 512\n",
    "    encode = ensure_vector_dimension(embeddings[0], 512)\n",
    "\n",
    "    # 处理 BM25 结果\n",
    "    result = bm25_ef.encode_queries([title]).reshape(1, -1)\n",
    "    \n",
    "    res = client.insert(\n",
    "        collection_name=\"vector_demo\",\n",
    "        data=[\n",
    "            {\n",
    "                \"chunk_content\": title[:1024],\n",
    "                \"chunk_sparse_embedding\": {index: value for index, value in zip(result.indices, result.data)},\n",
    "                \"chunk_embedding\": encode\n",
    "            }\n",
    "        ]\n",
    "    )\n"
   ]
  },
  {
   "cell_type": "code",
   "execution_count": 10,
   "id": "3e5c48fb",
   "metadata": {},
   "outputs": [
    {
     "name": "stderr",
     "output_type": "stream",
     "text": [
      "100%|██████████| 16510/16510 [00:00<00:00, 2747825.84it/s]\n"
     ]
    },
    {
     "data": {
      "image/png": "[encoded data removed]",
      "text/plain": [
       "<Figure size 1000x600 with 1 Axes>"
      ]
     },
     "metadata": {},
     "output_type": "display_data"
    }
   ],
   "source": [
    "import matplotlib.pyplot as plt\n",
    "\n",
    "# 读取 output.txt 文件并获取每行文本\n",
    "with open(\"dataset/repoLevel/XCoLab_Conflicts.txt\", \"r\", encoding=\"utf-8\") as file:\n",
    "    lines = file.readlines()\n",
    "\n",
    "# 统计每行的字符长度\n",
    "line_lengths = []\n",
    "for line in tqdm(lines):\n",
    "    line_length = len(line.strip())  # 计算每行的字符长度，strip()去除首尾空格\n",
    "    line_lengths.append(line_length)\n",
    "\n",
    "# 绘制字符长度分布的柱状图\n",
    "plt.figure(figsize=(10, 6))\n",
    "plt.hist(line_lengths, bins=1000, color='#2ecc71', edgecolor='black')  # 使用新的颜色（蓝色）\n",
    "plt.title(\"Character Length Distribution of Lines\")\n",
    "plt.xlabel(\"Number of Characters\")\n",
    "plt.ylabel(\"Frequency\")\n",
    "plt.xlim(0, 2000) # 设置 x 轴的范围，限制最大值为 2000\n",
    "plt.grid(True)\n",
    "plt.show()\n"
   ]
  },
  {
   "cell_type": "code",
   "execution_count": 11,
   "id": "4313f5ee",
   "metadata": {},
   "outputs": [
    {
     "name": "stderr",
     "output_type": "stream",
     "text": [
      "100%|██████████| 16510/16510 [00:03<00:00, 4337.52it/s]\n"
     ]
    },
    {
     "data": {
      "image/png": "[encoded data removed]",
      "text/plain": [
       "<Figure size 1000x600 with 1 Axes>"
      ]
     },
     "metadata": {},
     "output_type": "display_data"
    }
   ],
   "source": [
    "import matplotlib.pyplot as plt\n",
    "\n",
    "# 读取 output.txt 文件并获取每行文本\n",
    "with open(\"dataset/repoLevel/XCoLab_Conflicts.txt\", \"r\", encoding=\"utf-8\") as file:\n",
    "    lines = file.readlines()\n",
    "\n",
    "# 统计每行的token数量\n",
    "token_counts = []\n",
    "for line in tqdm(lines):\n",
    "    # 对每行文本进行tokenization\n",
    "    inputs = tokenizer(line.strip(), padding=True, truncation=True, return_tensors=\"pt\")\n",
    "    token_count = len(inputs[\"input_ids\"][0])  # 获取token数量\n",
    "    token_counts.append(token_count)\n",
    "\n",
    "# 绘制token数量分布的柱状图\n",
    "plt.figure(figsize=(10, 6))\n",
    "plt.hist(token_counts, bins=20, color='skyblue', edgecolor='black')  # 20个bins\n",
    "plt.title(\"Token Length Distribution\")\n",
    "plt.xlabel(\"Number of Tokens\")\n",
    "plt.ylabel(\"Frequency\")\n",
    "plt.grid(True)\n",
    "plt.show()\n"
   ]
  },
  {
   "cell_type": "code",
   "execution_count": 12,
   "id": "36eb1ba1-26bd-402b-bedb-24a8ae8c1d10",
   "metadata": {},
   "outputs": [],
   "source": [
    "from pymilvus import (\n",
    "    utility,\n",
    "    FieldSchema, CollectionSchema, DataType,\n",
    "    Collection, AnnSearchRequest, RRFRanker, connections,\n",
    ")\n",
    "from pymilvus import WeightedRanker\n",
    "\n",
    "query = \"concurrent_change _newline_ public void testGetInstance ( ) throws IllegalStateException , NamingException _newline_ base_content _newline_ public void testGetInstance ( ) throws Exception _newline_ incoming_change _newline_\" \n",
    "result = bm25_ef.encode_queries([query]).reshape(1, -1)\n",
    "\n",
    "sparse_search_params = {\"metric_type\": \"IP\"}\n",
    "sparse_req = AnnSearchRequest([{index: float(value) for index, value in zip(result.indices, result.data)}],\n",
    "                              \"chunk_sparse_embedding\", sparse_search_params, limit=2)\n",
    "\n",
    "# 对查询使用 CodeBERT 进行编码（得到密集向量）\n",
    "inputs = tokenizer(query, padding=True, truncation=True, return_tensors=\"pt\").to(model.device)\n",
    "with torch.no_grad():  # 禁用梯度计算\n",
    "    outputs = model(**inputs)\n",
    "    dense_embedding = outputs.last_hidden_state.mean(dim=1).cpu().numpy()\n",
    "\n",
    "# 确保密集向量的维度为 512\n",
    "dense_embedding = ensure_vector_dimension(dense_embedding[0], 512)\n",
    "\n",
    "dense_search_params = {\"metric_type\": \"COSINE\"}\n",
    "dense_req = AnnSearchRequest([dense_embedding], \"chunk_embedding\", dense_search_params, limit=2)\n",
    "\n",
    "reqs = [sparse_req, dense_req]\n",
    "rerank = WeightedRanker(0.2, 0.8)\n",
    "  \n",
    "result = client.hybrid_search(\"vector_demo\", reqs, ranker=rerank, limit=3, output_fields=[\"chunk_content\",  \"id\"])"
   ]
  },
  {
   "cell_type": "code",
   "execution_count": 13,
   "id": "000802af-ce9c-4921-826b-a22d97e14e4d",
   "metadata": {},
   "outputs": [
    {
     "name": "stdout",
     "output_type": "stream",
     "text": [
      "查询：\n",
      "concurrent_change _newline_ public void testGetInstance ( ) throws IllegalStateException , NamingException _newline_ base_content _newline_ public void testGetInstance ( ) throws Exception _newline_ incoming_change _newline_\n",
      "\n",
      "检索结果：\n",
      "concurrent_change _newline_     public static List<Pair<ContestWrapper, Date>> getAllContests() throws SystemException, PortalException { _newline_  _newline_ base_content _newline_  _newline_ incoming_change _newline_  _newline_  _newline_ \n",
      "concurrent_change _newline_     public static long linkProfilePicture(String picUrl) { _newline_  _newline_ base_content _newline_     public static long linkProfilePicture(String picUrl) throws SystemException { _newline_  _newline_ incoming_change _newline_     public static long linkProfilePicture(String path, String picUrl) throws SystemException { _newline_ \n",
      "concurrent_change _newline_         msg.append(_NO_SUCH_ENTITY_WITH_KEY); _newline_  _newline_         msg.append(\"contestActive=\"); _newline_         msg.append(contestActive); _newline_  _newline_         msg.append(\", contestPrivate=\"); _newline_         msg.append(contestPrivate); _newline_  _newline_         msg.append(StringPool.CLOSE_CURLY_BRACE); _newline_  _newline_         throw new NoSuchContestException(msg.toString()); _newline_     } _newline_  _newline_     /** _newline_      * Returns the last contest in the ordered set where contestActive = &#63; and contestPrivate = &#63;. _newline_      * _newline_      * @param contestActive the contest active _newline_      * @param contestPrivate the contest private _newline_      * @param orderByComparator the comparator to order the set by (optionally <code>null</code>) _newline_      * @return the last matching contest, or <code>null</code> if a matching contest could not be found _newline_      * @throws SystemException if a system exception occurred\n",
      "\n",
      "对应id:\n",
      "456094892818133346\n",
      "456094892818133364\n",
      "456094892817582790\n",
      "\n"
     ]
    }
   ],
   "source": [
    "related_conflict = \"\\n\".join([x[\"entity\"][\"chunk_content\"] for x in result[0]])\n",
    "related_conflictId = \"\\n\".join([str(x[\"entity\"][\"id\"]) for x in result[0]])\n",
    "prompt = f\"\"\"查询：\n",
    "{query}\n",
    "\n",
    "检索结果：\n",
    "{related_conflict}\n",
    "\n",
    "对应id:\n",
    "{related_conflictId}\n",
    "\"\"\"\n",
    "print(prompt)"
   ]
  }
 ],
 "metadata": {
  "kernelspec": {
   "display_name": "Python 3",
   "language": "python",
   "name": "python3"
  },
  "language_info": {
   "codemirror_mode": {
    "name": "ipython",
    "version": 3
   },
   "file_extension": ".py",
   "mimetype": "text/x-python",
   "name": "python",
   "nbconvert_exporter": "python",
   "pygments_lexer": "ipython3",
   "version": "3.9.12"
  }
 },
 "nbformat": 4,
 "nbformat_minor": 5
}
